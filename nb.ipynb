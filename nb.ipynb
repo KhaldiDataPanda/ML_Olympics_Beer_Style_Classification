{
 "cells": [
  {
   "cell_type": "code",
   "execution_count": null,
   "metadata": {},
   "outputs": [],
   "source": [
    "# import pd,np,plt,sns,klib,imblearn\n",
    "\n",
    "import pandas as pd     \n",
    "import numpy as np\n",
    "import matplotlib.pyplot as plt\n",
    "import seaborn as sns\n",
    "import klib as kb"
   ]
  },
  {
   "cell_type": "code",
   "execution_count": null,
   "metadata": {},
   "outputs": [],
   "source": [
    "train_df = pd.read_csv('train.csv')\n",
    "test_df = pd.read_csv('test.csv')\n",
    "\n",
    "for_later = test_df['ID']"
   ]
  },
  {
   "cell_type": "code",
   "execution_count": null,
   "metadata": {},
   "outputs": [],
   "source": [
    "kb.missingval_plot(train_df)"
   ]
  },
  {
   "cell_type": "code",
   "execution_count": null,
   "metadata": {},
   "outputs": [],
   "source": [
    "# import ce traget encoder\n",
    "\n",
    "from category_encoders import TargetEncoder\n",
    "#encode \"Brewery\" with target encoder\n",
    "te = TargetEncoder()\n",
    "train_df['Brewery'] = te.fit_transform(train_df['Brewery'],train_df['Style'])\n",
    "test_df['Brewery'] = te.transform(test_df['Brewery'])\n",
    "        "
   ]
  },
  {
   "cell_type": "code",
   "execution_count": null,
   "metadata": {},
   "outputs": [],
   "source": [
    "kb.corr_plot(train_df,method='spearman')"
   ]
  },
  {
   "cell_type": "code",
   "execution_count": null,
   "metadata": {},
   "outputs": [],
   "source": [
    "# droping all textual columns\n",
    "train_df.drop(['Description','ID','Name','Beer Name (Full)'], axis=1, inplace=True)\n",
    "test_df.drop(['W','Description','ID','Name','Beer Name (Full)'], axis=1, inplace=True)"
   ]
  },
  {
   "cell_type": "code",
   "execution_count": null,
   "metadata": {},
   "outputs": [],
   "source": [
    "# methode 2 to fill nulls\n",
    "\n",
    "from sklearn.impute import KNNImputer\n",
    "\n",
    "imputer = KNNImputer(n_neighbors=3)\n",
    "train_df.iloc[:,1:] = imputer.fit_transform(train_df.iloc[:,1:])\n",
    "test_df.iloc[:,1:] = imputer.fit_transform(test_df.iloc[:,1:])"
   ]
  },
  {
   "cell_type": "code",
   "execution_count": null,
   "metadata": {},
   "outputs": [],
   "source": [
    "# filling nulls and replacing the weird 9876 walue with mean per style\n",
    "\n",
    "\n",
    "for i in train_df.index :\n",
    "    for j in train_df.iloc[:,1:].columns:\n",
    "        if train_df.loc[i,j] == 9876 :\n",
    "            #print('Before : ',train_df.loc[i,j])\n",
    "            train_df.loc[i,j] = train_df.loc[(train_df['Style']==train_df.loc[i,'Style'])&(train_df[j] != 9876),:][j].mean()\n",
    "            #print('After : ',train_df.loc[i,j])   \n",
    "            #print('Group by was : ',train_df.loc[(train_df['Style']==train_df.loc[i,'Style'])&(train_df[j] != 9876),:][j])    \n",
    "            \n",
    "for i in test_df.index :\n",
    "    for j in test_df.iloc[:,1:].columns:\n",
    "        if test_df.loc[i,j] == 9876 :\n",
    "            #print('Before : ',test_df.loc[i,j])\n",
    "            test_df.loc[i,j] = test_df.loc[(test_df[j] != 9876),:][j].mean()\n",
    "            #print('After : ',test_df.loc[i,j])   \n",
    "            #print('Group by was : ',train_df.loc[(train_df['Style']==train_df.loc[i,'Style'])&(train_df[j] != 9876),:][j])"
   ]
  },
  {
   "attachments": {},
   "cell_type": "markdown",
   "metadata": {},
   "source": [
    "# Note For Fady :\n",
    "\n",
    "i tried the modeling directly without deep feature selection, most of columns are usless, i will try smote oversampling and PCA , but the processing i made above is good, so you can use it directly to fill nulls "
   ]
  },
  {
   "cell_type": "code",
   "execution_count": null,
   "metadata": {},
   "outputs": [],
   "source": [
    "kb.corr_plot(train_df,method='spearman')"
   ]
  },
  {
   "cell_type": "code",
   "execution_count": null,
   "metadata": {},
   "outputs": [],
   "source": [
    "# standardizing the data\n",
    "from sklearn.preprocessing import StandardScaler\n",
    "scaler = StandardScaler()\n",
    "train_df.iloc[:,1:-1] = scaler.fit_transform(train_df.iloc[:,1:-1])\n",
    "test_df.iloc[:,1:-1] = scaler.fit_transform(test_df.iloc[:,1:-1])\n",
    "\n"
   ]
  },
  {
   "cell_type": "code",
   "execution_count": null,
   "metadata": {},
   "outputs": [],
   "source": [
    "# pca for dimensionality reduction \n",
    "\n",
    "from sklearn.decomposition import PCA\n",
    "pca = PCA(n_components=6)\n",
    "train_x_pca = pca.fit_transform(train_df.iloc[:,1:-1])\n",
    "test_x_pca = pca.fit_transform(test_df.iloc[:,1:])    \n",
    "\n"
   ]
  },
  {
   "cell_type": "code",
   "execution_count": null,
   "metadata": {},
   "outputs": [],
   "source": [
    "# xgboost model \n",
    "\n",
    "import xgboost as xgb\n",
    "from sklearn.model_selection import train_test_split\n",
    "from sklearn.metrics import accuracy_score\n",
    "from sklearn.metrics import mean_squared_error\n",
    "from sklearn.model_selection import GridSearchCV\n",
    "\n",
    "\n",
    "\n",
    "\n",
    "X = train_df.iloc[:,:-1]\n",
    "y = train_df.iloc[:,-1]\n",
    "print(X.shape,y.shape)\n",
    "from imblearn.over_sampling import SMOTE\n",
    "sm = SMOTE(random_state=42)\n",
    "X, y = sm.fit_resample(X,y)\n",
    "print(X.shape,y.shape)\n",
    "\n",
    "\n",
    "X_train, X_test, y_train, y_test = train_test_split(X, y, test_size=0.3, random_state=42)\n",
    "\n",
    "\n",
    "\n",
    "\n",
    "\n",
    "\n",
    "\n",
    "\n",
    "xgb_model = xgb.XGBClassifier(objective=\"multi:softmax\",max_depth=3,min_child_weight=3)\n",
    "xgb_model.fit(X_train, y_train)\n",
    "\n",
    "y_pred = xgb_model.predict(X_test)\n",
    "predictions = [round(value) for value in y_pred]\n",
    "accuracy = accuracy_score(y_test, predictions)\n",
    "\n",
    "print(\"Accuracy: %.2f%%\" % (accuracy * 100.0))\n",
    "\n",
    "\n",
    "x = xgb_model.predict(test_df.iloc[:,:])\n",
    "\n",
    "# saving the predictions to a csv file : a dataframe with 2 columns : ID and Style\n",
    "df = pd.DataFrame({'ID':for_later,'Style':x})\n",
    "df.to_csv('submission.csv',index=False)\n",
    "    \n"
   ]
  },
  {
   "cell_type": "code",
   "execution_count": null,
   "metadata": {},
   "outputs": [],
   "source": [
    "#grid search\n",
    "\n",
    "\n",
    "#param_test1 = {\n",
    "# 'max_depth':range(3,10,2),\n",
    "# 'min_child_weight':range(1,6,2)\n",
    "#}\n",
    "#gsearch1 = GridSearchCV(estimator = xgb.XGBClassifier( learning_rate =0.1, n_estimators=140, max_depth=5,min_child_weight=1, gamma=0, subsample=0.8, colsample_bytree=0.8,objective= 'multi:softmax', num_class=104, nthread=4, scale_pos_weight=1, seed=27),param_grid = param_test1, scoring='neg_mean_squared_error',n_jobs=4, cv=5)\n",
    "#gsearch1.fit(X,y)\n",
    "#gsearch1.best_params_, gsearch1.best_score_\n",
    "#"
   ]
  },
  {
   "cell_type": "code",
   "execution_count": null,
   "metadata": {},
   "outputs": [],
   "source": [
    "import lightgbm as lgb\n",
    "d_train=lgb.Dataset(X_train, label=y_train)\n",
    "params={}\n",
    "params['learning_rate']=0.03\n",
    "params['boosting_type']='gbdt' \n",
    "params['objective']='multiclass' \n",
    "params['metric']='multi_logloss' \n",
    "params['max_depth']=7\n",
    "params['num_class']=17\n",
    "params['verbose']=-1\n",
    "\n",
    "clf=lgb.train(params,d_train,1000)  \n",
    "\n",
    "y_pred_1=clf.predict(X_test)\n",
    "\n",
    "from sklearn.metrics import f1_score\n",
    "print(f1_score(y_test,np.argmax(y_pred_1, axis=-1), average='macro'))\n",
    "\n",
    "\n",
    "# saving the predictions to a csv file \n",
    "\n",
    "df = pd.DataFrame({'ID':for_later,'Style':np.argmax(clf.predict(test_df.iloc[:,:]), axis=-1)})\n",
    "df.to_csv('submission.csv',index=False)\n",
    "    "
   ]
  },
  {
   "cell_type": "code",
   "execution_count": null,
   "metadata": {},
   "outputs": [],
   "source": [
    "# grid search for lightgbm\n",
    "\n",
    "\n",
    "param_test1 = {\n",
    "    'max_depth':range(3,10,2),\n",
    "    'num_leaves':range(10,100,10)\n",
    "}\n",
    "\n",
    "gsearch1 = GridSearchCV(estimator = lgb.LGBMClassifier(learning_rate=0.03, n_estimators=1000, objective='multiclass',num_class=17,metric='multi_logloss',boosting_type='gbdt',verbose=-1),      param_grid = param_test1, scoring='neg_mean_squared_error',n_jobs=4, cv=5)\n",
    "gsearch1.fit(X,y)\n",
    "gsearch1.best_params_, gsearch1.best_score_\n",
    "    "
   ]
  },
  {
   "cell_type": "code",
   "execution_count": null,
   "metadata": {},
   "outputs": [],
   "source": [
    "pd.read_csv('/kaggle/working/sample_submission.csv')"
   ]
  },
  {
   "cell_type": "code",
   "execution_count": null,
   "metadata": {},
   "outputs": [],
   "source": [
    "# create the model for  the decision tree\n",
    "\n",
    "from sklearn.tree import DecisionTreeClassifier\n",
    "from sklearn.metrics import accuracy_score\n",
    "\n",
    "    \n",
    "    \n",
    "dt_model = DecisionTreeClassifier(max_depth= 9,min_samples_split=8 )\n",
    "dt_model.fit(X_train, y_train)\n",
    "\n",
    "        \n",
    "y_pred = dt_model.predict(X_test)\n",
    "predictions = [round(value) for value in y_pred]\n",
    "accuracy = accuracy_score(y_test, predictions)\n",
    "\n",
    "\n",
    "# svae to submission file 2\n",
    "\n",
    "x = dt_model.predict(test_df.iloc[:,1:])\n",
    "df = pd.DataFrame({'ID':for_later,'Style':x})\n",
    "\n",
    "df.to_csv('submission2.csv',index=False)\n",
    "\n",
    "accuracy"
   ]
  },
  {
   "cell_type": "code",
   "execution_count": null,
   "metadata": {},
   "outputs": [],
   "source": [
    "print(df.shape)"
   ]
  }
 ],
 "metadata": {
  "kernelspec": {
   "display_name": "Python 3",
   "language": "python",
   "name": "python3"
  },
  "language_info": {
   "codemirror_mode": {
    "name": "ipython",
    "version": 3
   },
   "file_extension": ".py",
   "mimetype": "text/x-python",
   "name": "python",
   "nbconvert_exporter": "python",
   "pygments_lexer": "ipython3",
   "version": "3.11.2"
  },
  "orig_nbformat": 4
 },
 "nbformat": 4,
 "nbformat_minor": 2
}
